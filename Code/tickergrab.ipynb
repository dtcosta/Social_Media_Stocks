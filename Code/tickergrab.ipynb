{
 "cells": [
  {
   "cell_type": "code",
   "execution_count": 3,
   "metadata": {},
   "outputs": [],
   "source": [
    "#Imports \n",
    "import os\n",
    "import tweepy\n",
    "import re\n",
    "import yfinance as yf\n",
    "import pandas as pd\n",
    "import matplotlib.pyplot as plt\n",
    "import seaborn as sns\n",
    "import pandas as pd\n",
    "import datetime\n",
    "import time\n",
    "import requests\n",
    "import numpy as np\n",
    "from dotenv import load_dotenv\n",
    "import panel as pn\n",
    "import plotly.express as px\n",
    "from pathlib import Path\n"
   ]
  },
  {
   "cell_type": "code",
   "execution_count": 4,
   "metadata": {},
   "outputs": [
    {
     "data": {
      "text/plain": [
       "<function TextIOWrapper.close()>"
      ]
     },
     "execution_count": 4,
     "metadata": {},
     "output_type": "execute_result"
    }
   ],
   "source": [
    "f = open('feb23_28.txt', 'r', encoding= \"utf8\")\n",
    "a = f.read()\n",
    "f.close\n",
    "#print(a)"
   ]
  },
  {
   "cell_type": "code",
   "execution_count": 5,
   "metadata": {},
   "outputs": [
    {
     "name": "stdout",
     "output_type": "stream",
     "text": [
      "<class 'str'>\n"
     ]
    }
   ],
   "source": [
    "i = a\n",
    "print(type(i))"
   ]
  },
  {
   "cell_type": "code",
   "execution_count": 6,
   "metadata": {},
   "outputs": [],
   "source": [
    "top_stocks = re.findall(r'[$][A-Za-z][\\S]*', str(i)) \n",
    "words_collection = []\n"
   ]
  },
  {
   "cell_type": "code",
   "execution_count": 7,
   "metadata": {},
   "outputs": [
    {
     "name": "stdout",
     "output_type": "stream",
     "text": [
      "{'$SPY': 116, '$QQQ': 76, '$IWM': 15, '$SMH': 6, '$GDX': 3, '$IBB': 3, '$XLF': 17, '$TLT': 34, '$HBI': 1, '$DKNG': 25, '$TSLA': 139, '$TLLTF': 3, '$BKR.A': 1, '$BKR.B': 1, '$GME': 190, '$CC…': 1, '$CLVR': 7, '$BTC': 11, '$ETH': 3, '$ADA': 6, '$CBDHF)': 1, '$RKT': 19, '$ABNB': 39, '$FL': 9, '$JNJ': 19, '$HYMTF': 2, '$TM': 2, '$F': 16, '$GM': 5, '$AAPL': 67, '$RTP': 6, '$BTAQ': 1, '$IPOF': 1, '$AJAX': 1, '$NGA': 5, '$DMYD': 6, '$LGVW': 1, '$BFLY': 4, '$SRAC': 1, '$DM': 2, '$FSR': 33, '$HPQ': 9, '$SLGWF': 1, '$BA': 36, '$WKHS': 37, '$TLRY': 16, '$AYRWF)': 1, '$FFWF),': 1, '$MRK': 3, '$PAND': 8, '$INLB': 1, '$MRNA': 15, '$PFE': 7, '$BNTX': 1, '$ALT': 1, '$ABBV': 1, '$ADMS': 1, '$BBY': 9, '$AMC': 73, '$KOSS': 16, '$COIN': 11, '$XLP': 1, '$XLU': 5, '$XLE': 12, '$EWZ,': 1, '$ASHR,': 1, '$QQQ,': 1, '$XLY,': 2, '$UNG.': 1, '$ASHR': 1, '$MCHI': 1, '$FXE,': 1, '$XLY': 2, '$XLF:': 1, '$TLT:': 1, '$AMZN': 41, '$GOOGL': 5, '$MSFT': 18, '$NVDA': 37, '$FB': 24, '$NFLX': 11, '$WMT': 6, '$HD…': 1, '$QQQs': 1, '$GBTC': 7, '$PLUG': 8, '$OCGN': 4, '$CDXC': 7, '$BSQR': 1, '$SPXS': 1, '$MGNX': 2, '$SEM': 7, '$VZ,': 1, '$CLF,': 1, '$EEM,': 1, '$MSFT,': 1, '$AUY': 1, '$NCTY': 3, '$HDGE': 1, '$WBAI': 2, '$HALO': 4, '$IVR': 1, '$C': 4, '$HAL': 2, '$ALTUW': 1, '$GTEC': 1, '$RCL': 4, '$SU': 2, '$MANU': 1, '$CPA': 2, '$SOS': 10, '$ACTC': 4, '$RAAC.': 1, '$RMGB': 5, '$BLIAQ:': 1, '$KOSS:': 1, '$GME:': 1, '$EXPR:': 1, '$HYG:': 1, '$MUB:': 1, '$TIP:': 1, '$CRB': 2, '$COPPER': 1, '$WTIC': 2, '$DJIA': 6, '$F:': 1, '$GM:': 1, '$TSLA:': 1, '$NIO:': 1, '$ALGN.': 1, '$MTCH': 1, '$TSLA?': 3, '$NIO': 18, '$ZM': 7, '$FUBO': 21, '$MELI': 6, '$TGT': 15, '$SE': 5, '$LMND': 5, '$SNOW': 7, '$DDD': 6, '$NVAX': 6, '$COST…': 1, '$TCDA': 4, '$AMCX': 5, '$ZIOP': 3, '$ZYXI': 2, '$ADT': 4, '$INT': 4, '$ENV': 3, '$CRI': 4, '$AERI': 2, '$TPIC…': 1, '$BRK.B': 3, '$THRM': 1, '$TGNA': 1, '$FOLD': 2, '$NRG': 2, '$CWEN': 2, '$SSYS': 1, '$XRAY': 1, '$NOVT': 1, '$ASTE…': 1, '$SPX': 20, '$CRON': 5, '$FLR': 3, '$BLDR': 4, '$EOG': 4, '$AMRX': 3, '$CNK': 5, '$VST': 1, '$MRSN…': 1, '$CPE': 7, '$CRM': 18, '$ETSY': 21, '$BYND': 31, '$SPCE': 15, '$VALE': 3, '$NKLA': 13, '$FSLR': 7, '$RUN…': 1, '$DPZ': 1, '$CLF': 5, '$W': 6, '$LI': 5, '$NCLH': 9, '$AMT': 1, '$CWH': 2, '$PZZA': 1, '$BUD…': 1, '$TDOC': 8, '$MGNI': 3, '$RDFN': 1, '$BILI': 4, '$LB': 6, '$VIAC': 7, '$NTNX': 1, '$NTAP…': 2, '$TRI': 2, '$REAL': 1, '$RLGY': 1, '$BCC': 2, '$LDOS': 1, '$MGY': 1, '$NLS': 1, '$ARNC': 1, '$ATRO': 1, '$XEC': 1, '$TREX': 1, '$NXST…': 1, '$OSTK': 6, '$JMIA': 4, '$LOW': 8, '$HZNP': 4, '$TJX': 4, '$BHC': 2, '$SIX': 2, '$NEO': 3, '$CSPR': 2, '$RY…': 1, '$SQ': 61, '$UPWK': 2, '$INTU': 1, '$HYLN': 5, '$TOL': 1, '$ESPR': 1, '$CDEV': 1, '$MATX…': 1, '$TSM': 1, '$RH': 1, '$TDOC…': 3, '$FIVE': 1, '$FIZZ…': 1, '$AA': 3, '$CMG': 1, '$HD': 15, '$PGNY': 1, '$BRKA': 1, '$CLOV': 14, '$FUBO…': 1, '$CL_F': 3, '$DIA': 19, '$SPY…': 3, '$GC_F': 3, '$GLD': 5, '$CL_F…': 1, '$TWTR': 53, '$BIDU': 17, '$BYND…': 1, '$C…': 2, '$ARKK…': 1, '$MSTR': 19, '$CCIV': 67, '$BB': 21, '$NOK': 4, '$PLTR': 37, '$SNDL': 6, '$NAKD…': 1, '$G…': 1, '$EXPR': 5, '$ARKQ…': 2, '$USD': 3, '$DIA…': 1, '$XPEV': 7, '$SNAP': 26, '$PYPL': 13, '$ARKK': 16, '$M': 3, '$VIX': 21, '$NDX': 7, '$COMPQ': 1, '$Q…': 1, '$SOXX': 2, '$QQEW…': 1, '$MJ': 2, '$HUI': 1, '$PSMT': 1, '$DOCU': 1, '$ES': 4, '$VIX:': 1, '$CPCE': 1, '$NYAD': 1, '$OEX': 1, '$RUT': 2, '$ES.': 1, '$CVNA': 10, '$ES_F': 12, '$GOLD': 2, '$GLD....': 1, '$XOM': 8, '$ZS': 8, '$RUN': 3, '$CARA': 2, '$UPS': 1, '$MNST': 7, '$BAND': 2, '$TIRX': 1, '$BLUE': 3, '$PSTH': 4, '$TW': 1, '$UBER': 9, '$SLV': 10, '$RIG': 2, '$SBUX': 8, '$ORCL': 6, '$MP': 7, '$Z': 4, '$RVLV': 3, '$CAT': 8, '$CZR': 4, '$ANSS': 1, '$BURN': 1, '$XLC': 1, '$XLB': 1, '$DD': 4, '$REI': 5, '$SF': 1, '$GOL': 1, '$ADNT': 2, '$TUP': 1, '$CCL': 7, '$DASH': 14, '$LYFT': 1, '$TEN': 1, '$TQQQ': 2, '$DASH:': 1, '$ETSY:': 2, '$FSLR:': 1, '$BYND:': 1, '$WDAY:': 1, '$SQQQ': 1, '$TDOC:': 1, '$WDAY': 5, '$PANW': 1, '$PTON': 11, '$APPS': 15, '$CELH': 7, '$DIS': 27, '$VUZI': 6, '$SONO…': 2, '$CDMO': 11, '$RSP': 2, '$WOOD': 2, '$PCCE': 2, '$IEI': 2, '$HYG': 2, '$VALUG': 2, '$LOVE': 6, '$FUTU': 6, '$TIGR': 4, '$PTON...': 2, '$CPC': 2, '$KIRK': 2, '$ULTA': 3, '$BOOT': 2, '$MAS': 2, '$MTZ': 3, '$LPLA': 3, '$AVY': 2, '$ARR': 2, '$FSR...': 2, '$AXTI': 2, '$BCOV': 2, '$KRNT': 2, '$EVBG': 2, '$CSOD': 2, '$OMI…': 2, '$NET': 4, '$PRTS': 2, '$ROKU': 9, '$PUBM': 3, '$ALGN': 2, '$AMD': 12, '$HUBS': 2, '$IRBT': 2, '$ZDGE': 2, '$PRPL': 2, '$PLTK': 3, '$QUOT': 2, '$PTC…': 2, '$IPHI': 2, '$SWKS': 2, '$TTD': 2, '$DQ': 2, '$mj': 1, '$msos': 1, '$spx': 20, '$fsr': 2, '$mile': 5, '$spy': 6, '$tlsa': 1, '$aapl': 10, '$gsah': 5, '$btwn': 4, '$JETS': 1, '$qqq': 9, '$jets': 4, '$nclh': 4, '$jets.': 1, '$cciv': 4, '$apps': 2, '$gme': 11, '$btc': 6, '$amc': 3, '$nvda': 1, '$tsla': 4, '$iwm': 1, '$amzn…': 1, '$gme.': 1, '$amc.': 1, '$mile.': 1, '$f': 2, '$amzn': 4, '$goos': 1, '$fcel': 4, '$bfly': 1, '$gsah…': 1, '$ALG': 2, '$SII': 2, '$FIX': 2, '$TLPFF': 1, '$TLPFY': 1, '$KALU': 1, '$CDUAF': 1, '$CNUTF': 1, '$CNAUF': 1, '$CMTOY': 2, '$ENIA': 1, '$BVRDF': 1, '$UCBJF': 1, '$UCBJY': 1, '$MOGU': 1, '$CW': 2, '$QBCRF': 1, '$QBCAF': 1, '$LNTH': 2, '$ALIM': 1, '$PESAF': 1, '$AGESF': 1, '$AGESY': 1, '$COCAL': 1, '$RDEIF': 1, '$RDEIY': 1, '$ARKAF': 1, '$ARKAY': 1, '$BRLXF': 1, '$MTBC': 1, '$MTBCP': 1, '$FPLSF': 1, '$DRTT': 1, '$TCON': 2, '$SSTI': 2, '$PSYTF': 1, '$PRFT': 1, '$ESEA': 2, '$ARDX': 1, '$ENRFF': 2, '$BOARF': 1, '$OROCF': 1, '$DRQ': 2, '$PBA': 2, '$PBNAF': 2, '$PMBPF': 2, '$WSC': 3, '$COLL': 2, '$EGO': 2, '$CCO': 1, '$PVG': 2, '$ECOL': 2, '$KWR': 2, '$APEN': 1, '$SZEVF': 1, '$SZEVY': 1, '$KOF': 1, '$COCSF': 1, '$KIMTF': 1, '$GTN': 1, '$GTN.A': 1, '$GVA': 1, '$NDLS': 2, '$LAWS': 1, '$ZEUS': 1, '$PNTG': 1, '$WBT': 1, '$RILY': 1, '$RILYL': 1, '$RILYZ': 1, '$FSS': 1, '$CWT': 1, '$EME': 1, '$WWW': 1, '$SPNS': 1, '$GTS': 1, '$FVE': 1, '$LEAF': 1, '$CLW': 2, '$AHEXF': 1, '$AHEXY': 1, '$PLMR': 1, '$GRIN': 1, '$ANZFF': 1, '$ANZLY': 1, '$CFPUF': 1, '$RGRNF': 1, '$PETQ': 2, '$TUSK': 1, '$ORA': 1, '$CXBMF': 1, '$GRBMF': 1, '$BMBOY': 1, '$AMVMF': 1, '$MONDF': 1, '$MONDY': 1, '$ACIW': 2, '$NH': 2, '$GOLF': 2, '$PHOJY': 1, '$RYI': 1, '$SGBAF': 1, '$CCDBF': 2, '$CCLLF': 2, '$TRS': 1, '$AALBF': 1, '$ELEZF': 2, '$ELEZY': 2, '$ACMR': 2, '$CO': 2, '$SALRF': 1, '$SALRY': 1, '$WLMS': 1, '$AXAHF': 1, '$AXAHY': 1, '$PPRQF': 1, '$TNISF': 1, '$TNISY': 1, '$HL': 1, '$ICAGY': 1, '$BABWF': 1, '$REML': 1, '$BLI': 2, '$AAUKF': 1, '$NGLOY': 1, '$SRRTF': 1, '$WPC': 1, '$CC': 1, '$PRAA': 2, '$CVE': 1, '$ANTM': 1, '$AZO': 1, '$AMWD': 1, '$MNDJF': 1, '$INGXF': 1, '$HKXCF': 1, '$HKXCY': 1, '$ESNT': 1, '$CABO': 2, '$AXNX': 2, '$OLMIF': 1, '$OLMIY': 1, '$SD': 2, '$RCDTF': 1, '$MRIN': 1, '$O': 1, '$AMADF': 1, '$AMADY': 1, '$KRA': 1, '$GEF': 1, '$GEF.B': 1, '$OPRA': 1, '$HMHC': 1, '$TTWO': 1, '$EXETF': 1, '$HAS': 3, '$STXS': 1, '$KW': 1, '$KXI': 1, '$RYAM': 1, '$ENGIY': 1, '$ENGQF': 1, '$SCBFF': 1, '$SCBFY': 1, '$RWT': 2, '$RM': 1, '$OMF': 1, '$NYCB': 6, '$NYCB.PA': 1, '$SEPJF': 1, '$SEPJY': 1, '$KRP': 1, '$CSTM': 1, '$STRA': 2, '$GOSS': 1, '$MGPI': 3, '$KZMYF': 1, '$KZMYY': 1, '$DTEGF': 1, '$DTEGY': 1, '$ENDP': 3, '$SPTN': 1, '$DMS': 1, '$MRPRF': 1, '$SUBCY': 1, '$ACGYF': 1, '$HUYA': 1, '$RTMVF': 1, '$RTMVY': 1, '$BASFY': 1, '$BFFAF': 1, '$STOR': 4, '$HHC': 2, '$KL': 1, '$LSXMK': 1, '$LSXMA': 2, '$LSXMB': 1, '$VRNA': 1, '$VNAPF': 1, '$OR': 1, '$AFIN': 1, '$AFINP': 1, '$CPK': 1, '$OAS': 1, '$OMP': 1, '$MCD.': 1, '$SPY.': 2, '$SCKT...': 1, '$TLSA': 2, '$IBM': 2, '$MA': 7, '$GOOG': 3, '$DE': 2, '$WLK': 1, '$LAIX': 7, '$LUMO': 2, '$JAN': 14, '$OBLG': 6, '$NVOS': 4, '$AUVI': 4, '$AIKI': 4, '$AEI': 5, '$BOXL': 4, '$DPW': 3, '$EFOI': 2, '$GMBL': 10, '$HOFV': 2, '$UGRO': 6, '$LOTZ': 4, '$DOGZ': 4, '$PETZ': 4, '$SINT': 8, '$CLEU': 2, '$CGIX': 1, '$NTEC': 2, '$WWR': 1, '$VIVE': 2, '$CLVS': 5, '$RELI': 7, '$NAKD': 6, '$XL': 1, '$KODK': 4, '$NKDA': 1, '$CYTH': 3, '$IMNM': 4, '$GTT': 3, '$CANF': 2, '$NPA': 2, '$EH': 2, '$JUPW': 1, '$CTIB': 2, '$PED': 3, '$INDU': 1, '$JFU': 1, '$GRNQ': 2, '$PHUN': 1, '$USEG': 1, '$CEI': 1, '$ANCN': 2, '$HOTH': 1, '$GE': 6, '$XOP': 1, '$AMZN…': 2, '$UWMC.': 1, '$DMTK': 3, '$TSLA)': 1, '$ARKQ': 3, '$ARKW': 7, '$OPEN': 4, '$ACIC': 4, '$KTOS': 3, '$ARKG': 3, '$VLDR.': 1, '$VIOT…': 1, '$ACB': 2, '$MARA': 4, '$GMBL.': 3, '$FUV': 7, '$HIVE': 1, '$ARBKF': 1, '$VXX': 7, '$GBTC)': 1, '$MWK': 2, '$TMDX': 2, '$FUSE': 1, '$UPST': 2, '$SBG': 1, '$STIC': 1, '$APPH': 2, '$DNMR': 1, '$YI': 1, '$O…': 1, '$GBTC.': 1, '$GRWG': 1, '$KRE': 2, '$XRT': 3, '$SLB': 1, '$XLI': 3, '$APA': 1, '$EWZ': 2, '$FDX': 4, '$LMT': 2, '$IBUY': 1, '$MGLN': 1, '$LBRDA': 1, '$SVC': 2, '$RHP': 1, '$JE': 2, '$IEP': 2, '$QRTEA': 1, '$HMSY': 2, '$REPH': 1, '$SSP': 2, '$PEG': 1, '$PLYM': 1, '$OFIX': 1, '$MRSN': 1, '$IMUX': 1, '$CVEO': 1, '$PNM': 1, '$MODV': 1, '$NWN': 1, '$SLCA': 1, '$LAMR': 2, '$EVRG': 1, '$RNGR': 1, '$IHRT': 1, '$TMST': 2, '$FTAI': 1, '$TA': 1, '$CWK': 1, '$BRMK': 1, '$ALEX': 1, '$SRTS': 3, '$CDXS': 1, '$INTZ': 1, '$GNMK': 1, '$EB': 1, '$CYCC': 1, '$BGNE': 1, '$RLJ': 1, '$FDUS': 1, '$AAOI': 3, '$REGI': 1, '$MSEX': 1, '$EKSO': 1, '$ASMB': 1, '$LHCG': 1, '$ONEM': 1, '$DVAX': 1, '$ANAB': 1, '$ALRM': 1, '$CLBS': 2, '$CDTX': 2, '$PSNL': 3, '$PCTI': 1, '$HCAT': 2, '$VIR': 2, '$SWN': 2, '$IIN': 1, '$LPSN': 3, '$ATSG': 1, '$ERIE': 1, '$ACHC': 1, '$LMAT': 1, '$CUBE': 1, '$MAIN': 1, '$IOVA': 1, '$PBYI': 1, '$STAY': 1, '$NPTN': 2, '$ICFI': 1, '$ADUS': 1, '$AQMS': 1, '$ZIXI': 1, '$VYGR': 1, '$VMW': 3, '$VLDR': 2, '$VICR': 1, '$UVE': 1, '$UHS': 1, '$SWX': 1, '$SHAK': 3, '$SAIL': 1, '$RMAX': 2, '$PTCT': 1, '$PK': 2, '$OUT': 1, '$OGS': 1, '$NTRA': 3, '$NKTR': 2, '$MRTX': 1, '$MRAM': 1, '$MED': 1, '$LYV': 2, '$IRTC': 2, '$ICUI': 1, '$GKOS': 1, '$FTCH': 2, '$EIX': 1, '$DRNA': 1, '$DELL': 3, '$BMRN': 1, '$APLS': 1, '$AMH': 1, '$ALTR': 1, '$ALLO': 1, '$EVH': 1, '$EAR': 1, '$FOXF': 1, '$GRPN': 4, '$NUVA': 1, '$FND': 1, '$FOE': 1, '$CYTK': 1, '$WW': 3, '$SFM': 5, '$CERS': 1, '$ADSK': 4, '$ZGNX': 1, '$XLRN': 1, '$AXON': 1, '$NTUS': 1, '$WATT': 1, '$SUPN': 1, '$MDRX': 1, '$TD': 2, '$EDIT': 2, '$CM': 2, '$MCD': 7, '$SPOT,': 1, '$SHOP,': 1, '$PLTR,': 1, '$BEAM,': 1, '$PYPL,': 1, '$DOCN,': 1, '$VRM': 2, '$SKLZ': 6, '$EXPC': 1, '$ESTC': 3, '$RBLX': 2, '$ZI': 4, '$SHOP': 3, '$LCID,': 1, '$CMLF': 2, \"$API's\": 1, '$SOXL': 1, '$LABU': 1, '$CRWD': 2, '$BYND.': 1, '$SRPT': 1, '$TWLO': 7, '$BTBT': 3, '$NNOX': 8, '$BABA': 15, '$UONE': 1, '$NEON': 1, '$COST': 7, '$MRVL': 2, '$I…': 2, '$BCTX': 4, '$HUDI': 1, '$AUUD': 1, '$GTBP': 3, '$CPNG': 1, '$ELF': 5, '$RAAS': 6, '$MEG': 2, '$PHVS': 3, '$KBEVF': 1, '$RACA': 1, \"$TWTR's\": 1, '$VOR': 2, '$TERN': 1, '$BOLT,': 1, '$ANGN': 1, '$MLAC': 1, '$OSCR': 1, '$GS': 5, '$PHVS,': 1, '$PRAH': 7, '$AONE': 1, '$RAAC': 3, '$DMYI': 2, '$BOLT': 1, '$SEER': 1, '$MASS…': 1, '$QQQ.': 1, '$SCR': 1, '$CIIC': 6, '$CCIV!': 1, '$HOL': 3, '$SBE': 1, '$CHPT': 1, '$AREC': 1, '$lazr': 1, '$GIK': 8, '$ALUS': 2, '$CLA:': 1, '$CLA': 2, '$BFI': 1, '$ASPL': 3, '$IPOE': 1, '$CCIV?': 1, '$fuv': 1, '$STPK': 4, '$CCIV.': 1, '$DCRB': 1, '$ES_F.': 1, '$NQ_F': 5, '$ADD': 1, '$V': 7, '$CMCSA': 1, '$XLK': 3, '$JPM': 5, '$ARKF': 4, '$PINS': 1, '$YALA': 2, '$PAYC': 1, '$VEEV': 1, '$CRSP': 1, '$TAN': 2, '$NET…': 1, '$CURI': 1, '$NQ': 1, '$SPOT': 3, '$SONO': 5, '$GSX,': 1, '$GSXQ': 1, '$YEXT': 1, '$BJ': 1, '$KR': 1, '$CIEN': 1, '$SILK': 1, '$AVGO': 1, '$IEF': 1, '$WISH': 2, '$DISH': 4, '$SABR': 2, '$CARG': 1, '$TGT…': 1, '$CDNA': 1, '$CMRX': 1, '$GSX': 1, '$SOS.': 1, '$SOS,': 1, '$AKRO': 1, '$AMRS': 2, '$CALT': 2, '$FATE': 5, '$ICAD': 2, '$MEDS': 2, '$PAYA': 1, '$AGIO': 1, '$DK': 1, '$FLY': 1, '$GFL': 1, '$GMLP': 1, '$HMLP': 1, '$LPG': 2, '$LSTR': 1, '$SAGE…': 1, '$AIG': 1, '$ALC': 1, '$CEQP': 1, '$CMCO': 1, '$ELAN': 4, '$HSBC': 2, '$ICLR': 6, '$KNSL': 1, '$NOVA': 1, '$METX': 1, '$GHSI': 1, '$GTES': 1, '$FOCS': 1, '$COKE': 1, '$ASTE': 1, '$AXSM': 1, '$BRK/B': 1, '$CORE': 1, '$CVET': 1, '$XRAY…': 1, '$AFI': 1, '$CXW': 1, '$BCRX': 1, '$ALB': 1, '$TPIC': 2, '$MCD,': 1, '$YUM;': 1, '$REGN': 2, '$INCY': 1, '$BMY': 5, '$TGC': 1, '$VVNT': 1, '$NAK': 1, '$ARKG…': 1, '$T': 9, '$JD': 1, '$DVN': 1, '$X': 2, '$SOXS': 5, '$GEO': 7, '$TBT': 1, '$GSAT': 2, '$SNBR': 1, '$MLCO': 4, '$UFS': 2, '$LMNX': 1, '$OSK': 9, '$DOGE': 1, '$HIMS': 1, '$FROG': 1, '$DRIP': 1, '$AIHS': 1, '$APDN': 1, '$EBON': 5, '$GME,': 2, '$MDT': 2, '$WFC': 7, '$ZNGA': 4, '$MU': 6, '$copper': 1, '$NATGAS': 1, '$silver': 1, '$gold': 1, '$CF': 2, '$SHMP': 1, '$BAC': 7, '$CCMP': 2, '$KOS…': 1, '$PLT…': 1, '$UVXY': 6, '$CLF.': 1, '$OLO,': 1, '$SFTW': 1, '$AACQ': 1, '$GHVI': 1, '$GE,': 1, '$BKNG…': 1, '$ZB_F': 3, '$GLW': 2, '$BTC...': 1, '$CMI': 1, '$IQ': 2, '$WYNN': 4, '$FSIV': 1, '$JBT': 2, '$GOGO': 1, '$KC_F': 1, '$YM_F': 1, '$UNIUSD': 1, '$DOGEUSD': 1, '$NKD': 1, '$DXY': 2, '$SFOR': 5, '$DRNK': 1, '$MKGP': 2, '$NEXCF': 1, '$SELB': 2, '$SYPR': 1, '$XPL': 1, '$OIH': 2, '$GME…': 1, '$OIH,': 1, '$KLXE': 1, '$RNWK': 1, '$CBX': 1, '$APTV': 1, '$BLNK': 1, '$CBAT': 1, '$MAT': 4, '$CALX': 1, '$FCEL': 1, '$PENN': 5, '$BLMN…': 1, '$ALTO': 1, '$COTY': 1, '$AMKR': 1, '$VERU': 2, '$DDS': 1, '$CPSH…': 1, '$EXPI': 1, '$ET': 7, '$EBON…': 1, '$CFE': 1, '$DENN': 1, '$NOVN': 1, '$SLQT': 1, '$GSL': 8, '$DUST': 1, '$FFTY': 2, '$PTEN': 2, '$XLI,': 1, '$PLT': 1, \"$JNJ's\": 2, '$TAAT.V': 1, '$UGE.V': 1, '$KSI.V': 1, '$ASPU': 1, '$IPA': 1, '$NJMC': 1, '$RCW.AX…': 1, '$XL.': 1, '$WERAMP': 3, '$THCX': 1, '$SPG': 1, '$TMUS': 3, '$YUM,': 2, '$TWTR,': 4, '$AAPL,': 2, '$YUM)': 2, '$GMBL,': 2, '$MS': 4, '$VZ': 3, '$BIGC': 3, '$TM,': 2, '$RTP…': 2, '$DISCA,': 2, '$FB,': 2, '$CMLF,…': 2, '$WSFS': 2, '$DKNG,': 3, '$XBI': 3, '$SLAM': 2, '$USO': 2, '$ICE': 2, '$GRSV': 2, '$MMM': 3, '$CCIV…': 2, '$POSH': 1, '$TRIB': 1, '$MLSS': 2, '$EVFM': 4, '$DIGI': 7, '$HEC': 11, '$HECCW': 2, '$ETWO': 2, '$GTCH': 1, '$TAUG': 3, '$BTZI': 3, '$GNLN': 2, '$BOXL.': 1, '$LTMCF': 1, '$EGHT': 1, '$CBBT': 1, '$BMIX': 3, '$ETM.': 1, '$MNKD': 1, '$RMO': 1, '$THCB': 2, '$BNGO': 1, '$XLU.': 1, '$NSC': 3, '$WY': 1, '$BHP': 1, '$GSG': 1, '$RIO': 1, '$DBC': 1, '$TECK': 1, '$NTRS': 1, '$LNC': 1, '$CMC': 2, '$CL': 2, '$RTX': 2, '$CVX': 2, '$AXP': 2, '$CTXS': 1, '$XLRE': 1, '$PG': 2, '$KO': 2, '$BRK.A': 1, '$BRK.B…': 1, '$UAL': 4, '$BBDA,': 1, '$BLSP,…': 1, '$BBDA': 2, '$BLSP': 2, '$EHOS': 2, '$EVTI': 2, '$AXCG': 2, '$GYOG': 2, '$HLXW': 2, '$IPWG': 2, '$MRBI': 1, '$MEDT': 2, '$NTLK': 2, '$PTTN': 2, '$PTAH': 2, '$DKGR': 2, '$WOFA': 2, '$TIP': 1, '$STIP': 1, '$VTIP': 1, '$SPIP': 1, '$SCHP': 1, '$FOXA': 1, '$CMSA': 1, '$ABNB:': 1, '$WW:': 1, '$CZR:': 1, '$DKNG:': 1, '$CTB': 1, '$XERS': 1, '$NVCR': 1, '$SPACs': 1, '$ETSY,': 2, '$SCHW,': 1, '$DASH,': 1, '$CRM.': 1, '$COMP': 1, '$NKE': 1, '$HGV': 1, '$GPRO': 2, '$BBBY': 3, '$XRX': 1, '$WMB': 2, '$ROST': 1, '$RE': 1, '$PXD': 1, '$FLS': 1, '$GL': 1, '$COG': 1, '$NOV': 1, '$BKR': 2, '$CHTR…': 1, '$DAL': 4, '$DXC': 1, '$HSIC': 1, '$UNH': 1, '$FTV': 1, '$FBHS': 1, '$NWL': 1, '$RMD': 1, '$CAH': 1, '$TAP': 1, '$NNDM': 2, '$LTCUSD': 1, '$BTCUSD': 2, '$VISL': 1, '$PKG': 1, '$GWW…': 1, '$scr': 1, '$koss': 1, '$Penn?': 1, '$tscrd': 1, '$penn': 4, '$SOAC': 1, '$eGLD': 1, '$egld': 1, '$snpr': 1, '$snow': 1, '$goog': 1, '$SNPR': 6, '$LUNA': 1, '$EGLD': 2, '$SOL': 1, '$DOT': 1, '$TDAC': 30, '$TDAC,': 1, '$GTBIF': 1, '$CPSH': 1, '$ORN': 2, '$YAC:': 1, '$CEL': 1, '$YAC': 7, '$TRIL': 1, '$tdac': 2, '$tdac.': 1, '$LEXX': 1, '$BLBD': 3, '$YAC.': 1, '$TDACW': 2, '$PDBC': 1, '$NGAC': 7, '$XOS).': 1, '$FMCI': 1, '$YACWS': 1, '$PSCU': 2, '$MGK': 1, '$MGV': 1, '$INFL': 1, '$FANG': 1, '$ADM': 1, '$WELL': 1, '$RICK': 1, '$XES': 1, '$PSCE': 1, '$FCG': 1, '$CHIE': 1, '$CHIM': 1, '$KWEB': 1, '$KURE': 1, '$EMQQ': 1, '$TCFC': 1, '$PMBC': 1, '$CFBK': 1, '$BWFG': 1, '$BCML': 1, '$TSBK': 1, '$SLCT': 1, '$MPB': 1, '$FUNC': 1, '$CBNK': 1, '$ITA': 1, '$ARCH': 1, '$SKYW': 1, '$EWH': 3, '$UMBF': 1, '$SIMO': 1, '$SGOC': 1, '$CEO': 1, '$ICLK': 1, '$UCL': 1, '$MSC…': 1, '$MAA': 1, '$IRT': 1, '$UMH': 1, '$SNR': 1, '$EQR': 1, '$UDR': 1, '$CPT': 1, '$AVB': 1, '$ARGO': 1, '$SPYG': 1, '$SPYV': 1, '$WSBF': 1, '$ADS': 1, '$TOT': 1, '$LVS': 3, '$ILF': 1, '$REZ': 1, '$EWW': 1, '$SPAK': 1, '$PRNT': 1, '$REMX': 1, '$YOLO': 1, '$PFG': 1, '$PBCT': 1, '$MTB': 1, '$MET': 2, '$KEY': 1, '$HBAN': 1, '$FRC': 1, '$FITB': 1, '$NANR': 1, '$AFG': 1, '$HSC': 1, '$RY': 1, '$ATI': 1, '$BRX': 1, '$DOW': 1, '$TFC': 1, '$ERJ': 1, '$JBLU': 1, '$KIM,': 1, '$LUV': 1, '$KHC': 1, '$CCL,': 1, '$VLO,': 1, '$ZI,': 1, '$CAN': 3, '$rcl': 1, '$jmia': 1, '$can.': 1, '$wkhs': 1, '$GD': 1, '$MANT': 1, '$NOC': 1, '$NUVSF': 1, '$NTDOY': 1, '$YUM': 1, '$DVAX…': 1, '$CLII': 1, '$EVGO': 1, '$TRNO': 1, '$BITCOIN': 1, '$IDEX': 1, '$RIOT…': 1, '$TREE': 2, '$URBN': 1, '$EADSY': 1, '$IONS': 1, '$VIACA': 1, '$CNI': 1, '$CP': 1, '$CSX': 1, '$KSU': 1, '$UNP': 1, '$GWR': 1, '$EXC': 2, '$PSTX': 1, '$OMI': 2, '$ETM': 1, '$QCOM': 1, '$BAYRY': 1, '$MDLZ': 1, '$CHWY': 1, '$RIDE': 3, '$AVAV': 1, '$TCOM': 2, '$XM': 1, '$AEO': 2, '$STLA': 1, '$ALLK': 1, '$SYNA': 1, '$DTIL': 1, '$ENR': 1, '$CGC': 1, '$RBA': 1, '$PSN': 1, '$BRY': 1, '$AZN': 1, '$HSKA': 1, '$NXST': 1, '$GTLL': 1, '$AABB': 2, '$TSNP': 2, '$COUV': 1, '$IMTL': 1, '$SWRM': 1, '$WNDW': 1, '$MRIB': 1, '$SI': 2, '$TRIP': 1, '$CCJ': 1, '$LQD': 1, '$MSOS': 1, '$NEE': 1, '$MAC': 1, '$STWD': 1, '$Plug': 1, '$JWN': 1, '$NMRK': 1, '$SENS': 1, '$WDC': 3, '$ON': 1, '$INTC': 2, '$CHEF': 1, '$CLR': 1, '$PAA': 1, '$PAGP': 1, '$BWA': 1, '$BP': 1, '$SAVE': 1, '$VEDL': 2, '$YETI': 1, '$VLO': 1, '$MGM': 3, '$VNO': 2, '$CAR': 1, '$TNX': 3, '$FVX': 1, '$SMIN': 1, '$INDY': 1, '$SBSW': 1, '$GME.': 1, '$COST.': 1, '$DIS,': 1, '$KAI': 1, '$PCG': 1, '$OR…': 1, '$SIRI': 1, '$NLSN': 1, '$GPS': 1, '$AI': 1, '$NVAX)': 1, '$SCHW': 1, '$EWC': 1, '$APHA': 1, '$PRTY': 1, '$VRTS': 1, '$FUSE…': 1, '$FEYE': 1, '$SPR': 1, '$DNN': 4, '$MFC': 1, '$ITP': 3, '$NYCP': 1, '$QSR': 1, '$PAGS': 1, '$CCX': 1, '$SRNE': 1, '$DB': 1, '$DYNT': 1, '$NCLA': 2, '$AAL': 6, '$BBBY,': 1, '$EXPR,': 1, '$DKN…': 1, '$SNSS': 1, '$UNIT': 1, '$EWY': 1, '$DISCK': 1, '$SNE': 1, '$AA…': 1, '$CVLB': 1, '$SAN': 1, '$FI': 1, '$XLE.': 1, '$NIO.': 1, '$QSR…': 1, '$SNDL…': 1, '$RIOT': 1, '$SB_F': 1, '$EWRE': 1}\n"
     ]
    }
   ],
   "source": [
    "def word_count(str):\n",
    "    counts = dict()\n",
    "    words = top_stocks\n",
    "\n",
    "    for word in words:\n",
    "        if word in counts:\n",
    "            counts[word] += 1\n",
    "        else:\n",
    "            counts[word] = 1\n",
    "\n",
    "    return counts\n",
    "\n",
    "data = print(word_count(words_collection)) \n"
   ]
  },
  {
   "cell_type": "code",
   "execution_count": 8,
   "metadata": {},
   "outputs": [
    {
     "data": {
      "text/html": [
       "<div>\n",
       "<style scoped>\n",
       "    .dataframe tbody tr th:only-of-type {\n",
       "        vertical-align: middle;\n",
       "    }\n",
       "\n",
       "    .dataframe tbody tr th {\n",
       "        vertical-align: top;\n",
       "    }\n",
       "\n",
       "    .dataframe thead th {\n",
       "        text-align: right;\n",
       "    }\n",
       "</style>\n",
       "<table border=\"1\" class=\"dataframe\">\n",
       "  <thead>\n",
       "    <tr style=\"text-align: right;\">\n",
       "      <th></th>\n",
       "      <th>Ticker</th>\n",
       "      <th>Frequency</th>\n",
       "    </tr>\n",
       "  </thead>\n",
       "  <tbody>\n",
       "    <tr>\n",
       "      <th>0</th>\n",
       "      <td>GME</td>\n",
       "      <td>190</td>\n",
       "    </tr>\n",
       "    <tr>\n",
       "      <th>1</th>\n",
       "      <td>TSLA</td>\n",
       "      <td>139</td>\n",
       "    </tr>\n",
       "    <tr>\n",
       "      <th>2</th>\n",
       "      <td>SPY</td>\n",
       "      <td>116</td>\n",
       "    </tr>\n",
       "    <tr>\n",
       "      <th>3</th>\n",
       "      <td>QQQ</td>\n",
       "      <td>76</td>\n",
       "    </tr>\n",
       "    <tr>\n",
       "      <th>4</th>\n",
       "      <td>AMC</td>\n",
       "      <td>73</td>\n",
       "    </tr>\n",
       "    <tr>\n",
       "      <th>5</th>\n",
       "      <td>AAPL</td>\n",
       "      <td>67</td>\n",
       "    </tr>\n",
       "    <tr>\n",
       "      <th>6</th>\n",
       "      <td>CCIV</td>\n",
       "      <td>67</td>\n",
       "    </tr>\n",
       "    <tr>\n",
       "      <th>7</th>\n",
       "      <td>SQ</td>\n",
       "      <td>61</td>\n",
       "    </tr>\n",
       "    <tr>\n",
       "      <th>8</th>\n",
       "      <td>TWTR</td>\n",
       "      <td>53</td>\n",
       "    </tr>\n",
       "    <tr>\n",
       "      <th>9</th>\n",
       "      <td>AMZN</td>\n",
       "      <td>41</td>\n",
       "    </tr>\n",
       "  </tbody>\n",
       "</table>\n",
       "</div>"
      ],
      "text/plain": [
       "  Ticker  Frequency\n",
       "0    GME        190\n",
       "1   TSLA        139\n",
       "2    SPY        116\n",
       "3    QQQ         76\n",
       "4    AMC         73\n",
       "5   AAPL         67\n",
       "6   CCIV         67\n",
       "7     SQ         61\n",
       "8   TWTR         53\n",
       "9   AMZN         41"
      ]
     },
     "execution_count": 8,
     "metadata": {},
     "output_type": "execute_result"
    }
   ],
   "source": [
    "dd2=word_count(words_collection)\n",
    "sorted_dd2=sorted(dd2.items(),key=lambda x: x[1], reverse=True)\n",
    "sorted_df2=pd.DataFrame(sorted_dd2, columns=['Ticker', 'Frequency'])\n",
    "ready_df=sorted_df2.replace('\\$','',regex=True)\n",
    "ready_df.head(10)"
   ]
  },
  {
   "cell_type": "code",
   "execution_count": 9,
   "metadata": {},
   "outputs": [
    {
     "data": {
      "text/html": [
       "<div>\n",
       "<style scoped>\n",
       "    .dataframe tbody tr th:only-of-type {\n",
       "        vertical-align: middle;\n",
       "    }\n",
       "\n",
       "    .dataframe tbody tr th {\n",
       "        vertical-align: top;\n",
       "    }\n",
       "\n",
       "    .dataframe thead th {\n",
       "        text-align: right;\n",
       "    }\n",
       "</style>\n",
       "<table border=\"1\" class=\"dataframe\">\n",
       "  <thead>\n",
       "    <tr style=\"text-align: right;\">\n",
       "      <th></th>\n",
       "      <th>Ticker</th>\n",
       "      <th>Frequency</th>\n",
       "    </tr>\n",
       "  </thead>\n",
       "  <tbody>\n",
       "    <tr>\n",
       "      <th>0</th>\n",
       "      <td>GME</td>\n",
       "      <td>190</td>\n",
       "    </tr>\n",
       "    <tr>\n",
       "      <th>1</th>\n",
       "      <td>TSLA</td>\n",
       "      <td>139</td>\n",
       "    </tr>\n",
       "    <tr>\n",
       "      <th>2</th>\n",
       "      <td>SPY</td>\n",
       "      <td>116</td>\n",
       "    </tr>\n",
       "    <tr>\n",
       "      <th>3</th>\n",
       "      <td>QQQ</td>\n",
       "      <td>76</td>\n",
       "    </tr>\n",
       "    <tr>\n",
       "      <th>4</th>\n",
       "      <td>AMC</td>\n",
       "      <td>73</td>\n",
       "    </tr>\n",
       "    <tr>\n",
       "      <th>5</th>\n",
       "      <td>AAPL</td>\n",
       "      <td>67</td>\n",
       "    </tr>\n",
       "    <tr>\n",
       "      <th>6</th>\n",
       "      <td>CCIV</td>\n",
       "      <td>67</td>\n",
       "    </tr>\n",
       "    <tr>\n",
       "      <th>7</th>\n",
       "      <td>SQ</td>\n",
       "      <td>61</td>\n",
       "    </tr>\n",
       "    <tr>\n",
       "      <th>8</th>\n",
       "      <td>TWTR</td>\n",
       "      <td>53</td>\n",
       "    </tr>\n",
       "    <tr>\n",
       "      <th>9</th>\n",
       "      <td>AMZN</td>\n",
       "      <td>41</td>\n",
       "    </tr>\n",
       "    <tr>\n",
       "      <th>10</th>\n",
       "      <td>ABNB</td>\n",
       "      <td>39</td>\n",
       "    </tr>\n",
       "    <tr>\n",
       "      <th>11</th>\n",
       "      <td>WKHS</td>\n",
       "      <td>37</td>\n",
       "    </tr>\n",
       "    <tr>\n",
       "      <th>12</th>\n",
       "      <td>NVDA</td>\n",
       "      <td>37</td>\n",
       "    </tr>\n",
       "    <tr>\n",
       "      <th>13</th>\n",
       "      <td>PLTR</td>\n",
       "      <td>37</td>\n",
       "    </tr>\n",
       "    <tr>\n",
       "      <th>14</th>\n",
       "      <td>BA</td>\n",
       "      <td>36</td>\n",
       "    </tr>\n",
       "    <tr>\n",
       "      <th>15</th>\n",
       "      <td>TLT</td>\n",
       "      <td>34</td>\n",
       "    </tr>\n",
       "    <tr>\n",
       "      <th>16</th>\n",
       "      <td>FSR</td>\n",
       "      <td>33</td>\n",
       "    </tr>\n",
       "    <tr>\n",
       "      <th>17</th>\n",
       "      <td>BYND</td>\n",
       "      <td>31</td>\n",
       "    </tr>\n",
       "    <tr>\n",
       "      <th>18</th>\n",
       "      <td>TDAC</td>\n",
       "      <td>30</td>\n",
       "    </tr>\n",
       "    <tr>\n",
       "      <th>19</th>\n",
       "      <td>DIS</td>\n",
       "      <td>27</td>\n",
       "    </tr>\n",
       "  </tbody>\n",
       "</table>\n",
       "</div>"
      ],
      "text/plain": [
       "   Ticker  Frequency\n",
       "0     GME        190\n",
       "1    TSLA        139\n",
       "2     SPY        116\n",
       "3     QQQ         76\n",
       "4     AMC         73\n",
       "5    AAPL         67\n",
       "6    CCIV         67\n",
       "7      SQ         61\n",
       "8    TWTR         53\n",
       "9    AMZN         41\n",
       "10   ABNB         39\n",
       "11   WKHS         37\n",
       "12   NVDA         37\n",
       "13   PLTR         37\n",
       "14     BA         36\n",
       "15    TLT         34\n",
       "16    FSR         33\n",
       "17   BYND         31\n",
       "18   TDAC         30\n",
       "19    DIS         27"
      ]
     },
     "execution_count": 9,
     "metadata": {},
     "output_type": "execute_result"
    }
   ],
   "source": [
    "head10_df=ready_df.head(20)\n",
    "head10_df"
   ]
  },
  {
   "cell_type": "code",
   "execution_count": 11,
   "metadata": {},
   "outputs": [],
   "source": [
    "head10_df.to_csv(r'feb23_28.csv')"
   ]
  },
  {
   "cell_type": "code",
   "execution_count": null,
   "metadata": {},
   "outputs": [],
   "source": []
  }
 ],
 "metadata": {
  "kernelspec": {
   "display_name": "Python [conda env:pyvizenv21] *",
   "language": "python",
   "name": "conda-env-pyvizenv21-py"
  },
  "language_info": {
   "codemirror_mode": {
    "name": "ipython",
    "version": 3
   },
   "file_extension": ".py",
   "mimetype": "text/x-python",
   "name": "python",
   "nbconvert_exporter": "python",
   "pygments_lexer": "ipython3",
   "version": "3.7.10"
  }
 },
 "nbformat": 4,
 "nbformat_minor": 4
}
